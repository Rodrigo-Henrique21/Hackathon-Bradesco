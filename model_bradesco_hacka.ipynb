{
 "cells": [
  {
   "cell_type": "code",
   "execution_count": 1,
   "id": "e2dc8267",
   "metadata": {
    "id": "e2dc8267"
   },
   "outputs": [
    {
     "name": "stderr",
     "output_type": "stream",
     "text": [
      "C:\\Users\\cecyo\\AppData\\Local\\Temp\\ipykernel_41728\\49147841.py:20: DeprecationWarning: `import pandas_profiling` is going to be deprecated by April 1st. Please use `import ydata_profiling` instead.\n",
      "  import pandas_profiling\n"
     ]
    }
   ],
   "source": [
    "# Importar pacotes necessários\n",
    "%matplotlib inline\n",
    "import pandas as pd\n",
    "import numpy as np\n",
    "from sklearn.ensemble import RandomForestClassifier\n",
    "from sklearn.model_selection import train_test_split\n",
    "from sklearn.metrics import accuracy_score\n",
    "import matplotlib.pyplot as plt\n",
    "from sklearn.ensemble import RandomForestRegressor\n",
    "from sklearn.metrics import mean_squared_error\n",
    "import seaborn as sns\n",
    "from matplotlib.colors import ListedColormap\n",
    "from sklearn.model_selection import train_test_split, GridSearchCV\n",
    "from sklearn import preprocessing\n",
    "pd.options.display.max_columns = None\n",
    "#pd.options.display.max_rows = None\n",
    "plt.rc(\"font\", size=14)\n",
    "from sklearn.linear_model import LogisticRegression\n",
    "from sklearn.metrics import accuracy_score, confusion_matrix, classification_report, roc_auc_score, roc_curve\n",
    "import pandas_profiling\n",
    "import warnings\n",
    "warnings.filterwarnings(action=\"ignore\")"
   ]
  },
  {
   "cell_type": "code",
   "execution_count": 2,
   "id": "71ab3ed7",
   "metadata": {
    "id": "71ab3ed7"
   },
   "outputs": [],
   "source": [
    "# Carregar o conjunto de dados históricos dos clientes\n",
    "#df = pd.read_csv('dataset_all.csv').sample(100000, random_state=44)\n",
    "df = pd.read_csv('dataset_all.csv')"
   ]
  },
  {
   "cell_type": "code",
   "execution_count": 3,
   "id": "9fc12b6b",
   "metadata": {
    "colab": {
     "base_uri": "https://localhost:8080/",
     "height": 426
    },
    "id": "9fc12b6b",
    "outputId": "e61a9c36-8995-402f-8f1c-c90704bb5ab3",
    "scrolled": true
   },
   "outputs": [
    {
     "data": {
      "text/html": [
       "<div>\n",
       "<style scoped>\n",
       "    .dataframe tbody tr th:only-of-type {\n",
       "        vertical-align: middle;\n",
       "    }\n",
       "\n",
       "    .dataframe tbody tr th {\n",
       "        vertical-align: top;\n",
       "    }\n",
       "\n",
       "    .dataframe thead th {\n",
       "        text-align: right;\n",
       "    }\n",
       "</style>\n",
       "<table border=\"1\" class=\"dataframe\">\n",
       "  <thead>\n",
       "    <tr style=\"text-align: right;\">\n",
       "      <th></th>\n",
       "      <th>ID de consentimento</th>\n",
       "      <th>pagamentos em prestações pagos - emprestimo</th>\n",
       "      <th>saldo pendente do contrato - emprestimo</th>\n",
       "      <th>Prestações devidas - emprestimo</th>\n",
       "      <th>Prestações pagas - emprestimo</th>\n",
       "      <th>data de vencimento - emprestimo</th>\n",
       "      <th>pagamentos em prestações pagos - financiamento</th>\n",
       "      <th>saldo pendente do contrato - financiamento</th>\n",
       "      <th>Prestações devidas - financiamento</th>\n",
       "      <th>Prestações pagas - financiamento</th>\n",
       "      <th>Número total de prestações - financiamento</th>\n",
       "      <th>data de vencimento - financiamento</th>\n",
       "      <th>número restante do contrato - financiamento</th>\n",
       "      <th>Valor do contrato - financiamento</th>\n",
       "      <th>quantia - credito</th>\n",
       "      <th>é Prestação - credito</th>\n",
       "      <th>data de vencimento - credito</th>\n",
       "      <th>valor mínimo da fatura - credito</th>\n",
       "      <th>valor total da fatura - credito</th>\n",
       "      <th>data de pagamento - credito</th>\n",
       "      <th>Valor do pagamento - credito</th>\n",
       "      <th>Valor limite - credito</th>\n",
       "      <th>transações de valor - credito</th>\n",
       "      <th>é flexível no limite</th>\n",
       "      <th>Quantidade usada - credito</th>\n",
       "      <th>tipo pessoa</th>\n",
       "      <th>ID da conta</th>\n",
       "      <th>valor bloqueado</th>\n",
       "      <th>quantidade disponível</th>\n",
       "      <th>cheque especial Limite contratado</th>\n",
       "      <th>limite de cheque especial usado</th>\n",
       "      <th>Valor de cheque especial não combinado</th>\n",
       "      <th>quantia - conta</th>\n",
       "    </tr>\n",
       "  </thead>\n",
       "  <tbody>\n",
       "    <tr>\n",
       "      <th>0</th>\n",
       "      <td>a111bb0eba868bb5ad10cd5d2542cd6c0d4207df0f4a7b...</td>\n",
       "      <td>0</td>\n",
       "      <td>3155.829505</td>\n",
       "      <td>0</td>\n",
       "      <td>0</td>\n",
       "      <td>2023-06-19</td>\n",
       "      <td>0</td>\n",
       "      <td>121672.150969</td>\n",
       "      <td>413</td>\n",
       "      <td>0</td>\n",
       "      <td>413</td>\n",
       "      <td>2057-05-28</td>\n",
       "      <td>413</td>\n",
       "      <td>127307.648462</td>\n",
       "      <td>0.0</td>\n",
       "      <td>False</td>\n",
       "      <td>2021-08-20</td>\n",
       "      <td>175.821212</td>\n",
       "      <td>1164.467095</td>\n",
       "      <td>2021-07-21</td>\n",
       "      <td>0.009514</td>\n",
       "      <td>1427.043009</td>\n",
       "      <td>0.0</td>\n",
       "      <td>False</td>\n",
       "      <td>0.0</td>\n",
       "      <td>PF</td>\n",
       "      <td>3866f7ee798c9cacb4caef42130945577da2c9d0adfe65...</td>\n",
       "      <td>0.0</td>\n",
       "      <td>-4113.698827</td>\n",
       "      <td>0.000000</td>\n",
       "      <td>0.0</td>\n",
       "      <td>0.0</td>\n",
       "      <td>18.998699</td>\n",
       "    </tr>\n",
       "    <tr>\n",
       "      <th>1</th>\n",
       "      <td>a111bb0eba868bb5ad10cd5d2542cd6c0d4207df0f4a7b...</td>\n",
       "      <td>0</td>\n",
       "      <td>3155.829505</td>\n",
       "      <td>0</td>\n",
       "      <td>0</td>\n",
       "      <td>2023-06-19</td>\n",
       "      <td>0</td>\n",
       "      <td>121672.150969</td>\n",
       "      <td>413</td>\n",
       "      <td>0</td>\n",
       "      <td>413</td>\n",
       "      <td>2057-05-28</td>\n",
       "      <td>413</td>\n",
       "      <td>127307.648462</td>\n",
       "      <td>0.0</td>\n",
       "      <td>False</td>\n",
       "      <td>2021-08-20</td>\n",
       "      <td>175.821212</td>\n",
       "      <td>1164.467095</td>\n",
       "      <td>2021-07-21</td>\n",
       "      <td>0.009514</td>\n",
       "      <td>1427.043009</td>\n",
       "      <td>0.0</td>\n",
       "      <td>False</td>\n",
       "      <td>0.0</td>\n",
       "      <td>PF</td>\n",
       "      <td>3866f7ee798c9cacb4caef42130945577da2c9d0adfe65...</td>\n",
       "      <td>0.0</td>\n",
       "      <td>-4113.698827</td>\n",
       "      <td>0.000000</td>\n",
       "      <td>0.0</td>\n",
       "      <td>0.0</td>\n",
       "      <td>232.493847</td>\n",
       "    </tr>\n",
       "    <tr>\n",
       "      <th>2</th>\n",
       "      <td>a111bb0eba868bb5ad10cd5d2542cd6c0d4207df0f4a7b...</td>\n",
       "      <td>0</td>\n",
       "      <td>3155.829505</td>\n",
       "      <td>0</td>\n",
       "      <td>0</td>\n",
       "      <td>2023-06-19</td>\n",
       "      <td>0</td>\n",
       "      <td>121672.150969</td>\n",
       "      <td>413</td>\n",
       "      <td>0</td>\n",
       "      <td>413</td>\n",
       "      <td>2057-05-28</td>\n",
       "      <td>413</td>\n",
       "      <td>127307.648462</td>\n",
       "      <td>0.0</td>\n",
       "      <td>False</td>\n",
       "      <td>2021-08-20</td>\n",
       "      <td>175.821212</td>\n",
       "      <td>1164.467095</td>\n",
       "      <td>2021-07-21</td>\n",
       "      <td>0.009514</td>\n",
       "      <td>1427.043009</td>\n",
       "      <td>0.0</td>\n",
       "      <td>False</td>\n",
       "      <td>0.0</td>\n",
       "      <td>PF</td>\n",
       "      <td>fdb6d17c473fc2482568e7fe41f612472c5eb02924a91c...</td>\n",
       "      <td>0.0</td>\n",
       "      <td>0.000000</td>\n",
       "      <td>0.000000</td>\n",
       "      <td>0.0</td>\n",
       "      <td>0.0</td>\n",
       "      <td>NaN</td>\n",
       "    </tr>\n",
       "    <tr>\n",
       "      <th>3</th>\n",
       "      <td>a111bb0eba868bb5ad10cd5d2542cd6c0d4207df0f4a7b...</td>\n",
       "      <td>0</td>\n",
       "      <td>3155.829505</td>\n",
       "      <td>0</td>\n",
       "      <td>0</td>\n",
       "      <td>2023-06-19</td>\n",
       "      <td>0</td>\n",
       "      <td>121672.150969</td>\n",
       "      <td>413</td>\n",
       "      <td>0</td>\n",
       "      <td>413</td>\n",
       "      <td>2057-05-28</td>\n",
       "      <td>413</td>\n",
       "      <td>127307.648462</td>\n",
       "      <td>0.0</td>\n",
       "      <td>False</td>\n",
       "      <td>2021-08-20</td>\n",
       "      <td>175.821212</td>\n",
       "      <td>1164.467095</td>\n",
       "      <td>2021-07-21</td>\n",
       "      <td>0.009514</td>\n",
       "      <td>1427.043009</td>\n",
       "      <td>0.0</td>\n",
       "      <td>False</td>\n",
       "      <td>0.0</td>\n",
       "      <td>PF</td>\n",
       "      <td>78bf8ee76b7c63badcdcffa000ef120fdc02ed22a421b4...</td>\n",
       "      <td>0.0</td>\n",
       "      <td>-74.054019</td>\n",
       "      <td>665.953404</td>\n",
       "      <td>0.0</td>\n",
       "      <td>0.0</td>\n",
       "      <td>35.761698</td>\n",
       "    </tr>\n",
       "    <tr>\n",
       "      <th>4</th>\n",
       "      <td>a111bb0eba868bb5ad10cd5d2542cd6c0d4207df0f4a7b...</td>\n",
       "      <td>0</td>\n",
       "      <td>3155.829505</td>\n",
       "      <td>0</td>\n",
       "      <td>0</td>\n",
       "      <td>2023-06-19</td>\n",
       "      <td>0</td>\n",
       "      <td>121672.150969</td>\n",
       "      <td>413</td>\n",
       "      <td>0</td>\n",
       "      <td>413</td>\n",
       "      <td>2057-05-28</td>\n",
       "      <td>413</td>\n",
       "      <td>127307.648462</td>\n",
       "      <td>0.0</td>\n",
       "      <td>False</td>\n",
       "      <td>2021-08-20</td>\n",
       "      <td>175.821212</td>\n",
       "      <td>1164.467095</td>\n",
       "      <td>2021-07-21</td>\n",
       "      <td>0.009514</td>\n",
       "      <td>1427.043009</td>\n",
       "      <td>0.0</td>\n",
       "      <td>False</td>\n",
       "      <td>0.0</td>\n",
       "      <td>PF</td>\n",
       "      <td>3866f7ee798c9cacb4caef42130945577da2c9d0adfe65...</td>\n",
       "      <td>0.0</td>\n",
       "      <td>-4113.698827</td>\n",
       "      <td>0.000000</td>\n",
       "      <td>0.0</td>\n",
       "      <td>0.0</td>\n",
       "      <td>18.998699</td>\n",
       "    </tr>\n",
       "  </tbody>\n",
       "</table>\n",
       "</div>"
      ],
      "text/plain": [
       "                                 ID de consentimento  \\\n",
       "0  a111bb0eba868bb5ad10cd5d2542cd6c0d4207df0f4a7b...   \n",
       "1  a111bb0eba868bb5ad10cd5d2542cd6c0d4207df0f4a7b...   \n",
       "2  a111bb0eba868bb5ad10cd5d2542cd6c0d4207df0f4a7b...   \n",
       "3  a111bb0eba868bb5ad10cd5d2542cd6c0d4207df0f4a7b...   \n",
       "4  a111bb0eba868bb5ad10cd5d2542cd6c0d4207df0f4a7b...   \n",
       "\n",
       "   pagamentos em prestações pagos - emprestimo  \\\n",
       "0                                            0   \n",
       "1                                            0   \n",
       "2                                            0   \n",
       "3                                            0   \n",
       "4                                            0   \n",
       "\n",
       "   saldo pendente do contrato - emprestimo  Prestações devidas - emprestimo  \\\n",
       "0                              3155.829505                                0   \n",
       "1                              3155.829505                                0   \n",
       "2                              3155.829505                                0   \n",
       "3                              3155.829505                                0   \n",
       "4                              3155.829505                                0   \n",
       "\n",
       "   Prestações pagas - emprestimo data de vencimento - emprestimo  \\\n",
       "0                              0                      2023-06-19   \n",
       "1                              0                      2023-06-19   \n",
       "2                              0                      2023-06-19   \n",
       "3                              0                      2023-06-19   \n",
       "4                              0                      2023-06-19   \n",
       "\n",
       "   pagamentos em prestações pagos - financiamento  \\\n",
       "0                                               0   \n",
       "1                                               0   \n",
       "2                                               0   \n",
       "3                                               0   \n",
       "4                                               0   \n",
       "\n",
       "   saldo pendente do contrato - financiamento  \\\n",
       "0                               121672.150969   \n",
       "1                               121672.150969   \n",
       "2                               121672.150969   \n",
       "3                               121672.150969   \n",
       "4                               121672.150969   \n",
       "\n",
       "   Prestações devidas - financiamento  Prestações pagas - financiamento  \\\n",
       "0                                 413                                 0   \n",
       "1                                 413                                 0   \n",
       "2                                 413                                 0   \n",
       "3                                 413                                 0   \n",
       "4                                 413                                 0   \n",
       "\n",
       "   Número total de prestações - financiamento  \\\n",
       "0                                         413   \n",
       "1                                         413   \n",
       "2                                         413   \n",
       "3                                         413   \n",
       "4                                         413   \n",
       "\n",
       "  data de vencimento - financiamento  \\\n",
       "0                         2057-05-28   \n",
       "1                         2057-05-28   \n",
       "2                         2057-05-28   \n",
       "3                         2057-05-28   \n",
       "4                         2057-05-28   \n",
       "\n",
       "   número restante do contrato - financiamento  \\\n",
       "0                                          413   \n",
       "1                                          413   \n",
       "2                                          413   \n",
       "3                                          413   \n",
       "4                                          413   \n",
       "\n",
       "   Valor do contrato - financiamento  quantia - credito  \\\n",
       "0                      127307.648462                0.0   \n",
       "1                      127307.648462                0.0   \n",
       "2                      127307.648462                0.0   \n",
       "3                      127307.648462                0.0   \n",
       "4                      127307.648462                0.0   \n",
       "\n",
       "   é Prestação - credito data de vencimento - credito  \\\n",
       "0                  False                   2021-08-20   \n",
       "1                  False                   2021-08-20   \n",
       "2                  False                   2021-08-20   \n",
       "3                  False                   2021-08-20   \n",
       "4                  False                   2021-08-20   \n",
       "\n",
       "   valor mínimo da fatura - credito  valor total da fatura - credito  \\\n",
       "0                        175.821212                      1164.467095   \n",
       "1                        175.821212                      1164.467095   \n",
       "2                        175.821212                      1164.467095   \n",
       "3                        175.821212                      1164.467095   \n",
       "4                        175.821212                      1164.467095   \n",
       "\n",
       "  data de pagamento - credito  Valor do pagamento - credito  \\\n",
       "0                  2021-07-21                      0.009514   \n",
       "1                  2021-07-21                      0.009514   \n",
       "2                  2021-07-21                      0.009514   \n",
       "3                  2021-07-21                      0.009514   \n",
       "4                  2021-07-21                      0.009514   \n",
       "\n",
       "   Valor limite - credito  transações de valor - credito  \\\n",
       "0             1427.043009                            0.0   \n",
       "1             1427.043009                            0.0   \n",
       "2             1427.043009                            0.0   \n",
       "3             1427.043009                            0.0   \n",
       "4             1427.043009                            0.0   \n",
       "\n",
       "   é flexível no limite  Quantidade usada - credito tipo pessoa  \\\n",
       "0                 False                         0.0          PF   \n",
       "1                 False                         0.0          PF   \n",
       "2                 False                         0.0          PF   \n",
       "3                 False                         0.0          PF   \n",
       "4                 False                         0.0          PF   \n",
       "\n",
       "                                         ID da conta  valor bloqueado  \\\n",
       "0  3866f7ee798c9cacb4caef42130945577da2c9d0adfe65...              0.0   \n",
       "1  3866f7ee798c9cacb4caef42130945577da2c9d0adfe65...              0.0   \n",
       "2  fdb6d17c473fc2482568e7fe41f612472c5eb02924a91c...              0.0   \n",
       "3  78bf8ee76b7c63badcdcffa000ef120fdc02ed22a421b4...              0.0   \n",
       "4  3866f7ee798c9cacb4caef42130945577da2c9d0adfe65...              0.0   \n",
       "\n",
       "   quantidade disponível  cheque especial Limite contratado  \\\n",
       "0           -4113.698827                           0.000000   \n",
       "1           -4113.698827                           0.000000   \n",
       "2               0.000000                           0.000000   \n",
       "3             -74.054019                         665.953404   \n",
       "4           -4113.698827                           0.000000   \n",
       "\n",
       "   limite de cheque especial usado  Valor de cheque especial não combinado  \\\n",
       "0                              0.0                                     0.0   \n",
       "1                              0.0                                     0.0   \n",
       "2                              0.0                                     0.0   \n",
       "3                              0.0                                     0.0   \n",
       "4                              0.0                                     0.0   \n",
       "\n",
       "   quantia - conta  \n",
       "0        18.998699  \n",
       "1       232.493847  \n",
       "2              NaN  \n",
       "3        35.761698  \n",
       "4        18.998699  "
      ]
     },
     "execution_count": 3,
     "metadata": {},
     "output_type": "execute_result"
    }
   ],
   "source": [
    "df.head()"
   ]
  },
  {
   "cell_type": "code",
   "execution_count": 4,
   "id": "Ny4cS-QVGytH",
   "metadata": {
    "colab": {
     "base_uri": "https://localhost:8080/"
    },
    "id": "Ny4cS-QVGytH",
    "outputId": "6a57286b-94cb-4417-8013-d05db51ee1bb"
   },
   "outputs": [
    {
     "data": {
      "text/plain": [
       "ID de consentimento                                object\n",
       "pagamentos em prestações pagos - emprestimo         int64\n",
       "saldo pendente do contrato - emprestimo           float64\n",
       "Prestações devidas - emprestimo                     int64\n",
       "Prestações pagas - emprestimo                       int64\n",
       "data de vencimento - emprestimo                    object\n",
       "pagamentos em prestações pagos - financiamento      int64\n",
       "saldo pendente do contrato - financiamento        float64\n",
       "Prestações devidas - financiamento                  int64\n",
       "Prestações pagas - financiamento                    int64\n",
       "Número total de prestações - financiamento          int64\n",
       "data de vencimento - financiamento                 object\n",
       "número restante do contrato - financiamento         int64\n",
       "Valor do contrato - financiamento                 float64\n",
       "quantia - credito                                 float64\n",
       "é Prestação - credito                                bool\n",
       "data de vencimento - credito                       object\n",
       "valor mínimo da fatura - credito                  float64\n",
       "valor total da fatura - credito                   float64\n",
       "data de pagamento - credito                        object\n",
       "Valor do pagamento - credito                      float64\n",
       "Valor limite - credito                            float64\n",
       "transações de valor - credito                     float64\n",
       "é flexível no limite                                 bool\n",
       "Quantidade usada - credito                        float64\n",
       "tipo pessoa                                        object\n",
       "ID da conta                                        object\n",
       "valor bloqueado                                   float64\n",
       "quantidade disponível                             float64\n",
       "cheque especial Limite contratado                 float64\n",
       "limite de cheque especial usado                   float64\n",
       "Valor de cheque especial não combinado            float64\n",
       "quantia - conta                                   float64\n",
       "dtype: object"
      ]
     },
     "execution_count": 4,
     "metadata": {},
     "output_type": "execute_result"
    }
   ],
   "source": [
    "df.dtypes"
   ]
  },
  {
   "cell_type": "code",
   "execution_count": 5,
   "id": "f0f6cece",
   "metadata": {
    "colab": {
     "base_uri": "https://localhost:8080/"
    },
    "id": "f0f6cece",
    "outputId": "0e088f7c-d540-4001-9371-0d677834d1d4"
   },
   "outputs": [
    {
     "data": {
      "text/plain": [
       "(200000, 33)"
      ]
     },
     "execution_count": 5,
     "metadata": {},
     "output_type": "execute_result"
    }
   ],
   "source": [
    "df.shape"
   ]
  },
  {
   "cell_type": "code",
   "execution_count": 6,
   "id": "932d04ce",
   "metadata": {
    "colab": {
     "base_uri": "https://localhost:8080/",
     "height": 1000
    },
    "id": "932d04ce",
    "outputId": "8b9a5f5c-9aeb-4b22-b258-8041f2d9b71f",
    "scrolled": true
   },
   "outputs": [
    {
     "data": {
      "text/html": [
       "<div>\n",
       "<style scoped>\n",
       "    .dataframe tbody tr th:only-of-type {\n",
       "        vertical-align: middle;\n",
       "    }\n",
       "\n",
       "    .dataframe tbody tr th {\n",
       "        vertical-align: top;\n",
       "    }\n",
       "\n",
       "    .dataframe thead th {\n",
       "        text-align: right;\n",
       "    }\n",
       "</style>\n",
       "<table border=\"1\" class=\"dataframe\">\n",
       "  <thead>\n",
       "    <tr style=\"text-align: right;\">\n",
       "      <th></th>\n",
       "      <th>Total</th>\n",
       "      <th>Percent</th>\n",
       "    </tr>\n",
       "  </thead>\n",
       "  <tbody>\n",
       "    <tr>\n",
       "      <th>transações de valor - credito</th>\n",
       "      <td>43444</td>\n",
       "      <td>0.21722</td>\n",
       "    </tr>\n",
       "    <tr>\n",
       "      <th>quantia - conta</th>\n",
       "      <td>13258</td>\n",
       "      <td>0.06629</td>\n",
       "    </tr>\n",
       "    <tr>\n",
       "      <th>Valor do pagamento - credito</th>\n",
       "      <td>1400</td>\n",
       "      <td>0.00700</td>\n",
       "    </tr>\n",
       "    <tr>\n",
       "      <th>data de pagamento - credito</th>\n",
       "      <td>1400</td>\n",
       "      <td>0.00700</td>\n",
       "    </tr>\n",
       "    <tr>\n",
       "      <th>valor mínimo da fatura - credito</th>\n",
       "      <td>0</td>\n",
       "      <td>0.00000</td>\n",
       "    </tr>\n",
       "    <tr>\n",
       "      <th>Valor de cheque especial não combinado</th>\n",
       "      <td>0</td>\n",
       "      <td>0.00000</td>\n",
       "    </tr>\n",
       "    <tr>\n",
       "      <th>limite de cheque especial usado</th>\n",
       "      <td>0</td>\n",
       "      <td>0.00000</td>\n",
       "    </tr>\n",
       "    <tr>\n",
       "      <th>cheque especial Limite contratado</th>\n",
       "      <td>0</td>\n",
       "      <td>0.00000</td>\n",
       "    </tr>\n",
       "    <tr>\n",
       "      <th>quantidade disponível</th>\n",
       "      <td>0</td>\n",
       "      <td>0.00000</td>\n",
       "    </tr>\n",
       "    <tr>\n",
       "      <th>valor bloqueado</th>\n",
       "      <td>0</td>\n",
       "      <td>0.00000</td>\n",
       "    </tr>\n",
       "    <tr>\n",
       "      <th>ID da conta</th>\n",
       "      <td>0</td>\n",
       "      <td>0.00000</td>\n",
       "    </tr>\n",
       "    <tr>\n",
       "      <th>tipo pessoa</th>\n",
       "      <td>0</td>\n",
       "      <td>0.00000</td>\n",
       "    </tr>\n",
       "    <tr>\n",
       "      <th>Quantidade usada - credito</th>\n",
       "      <td>0</td>\n",
       "      <td>0.00000</td>\n",
       "    </tr>\n",
       "    <tr>\n",
       "      <th>é flexível no limite</th>\n",
       "      <td>0</td>\n",
       "      <td>0.00000</td>\n",
       "    </tr>\n",
       "    <tr>\n",
       "      <th>Valor limite - credito</th>\n",
       "      <td>0</td>\n",
       "      <td>0.00000</td>\n",
       "    </tr>\n",
       "    <tr>\n",
       "      <th>valor total da fatura - credito</th>\n",
       "      <td>0</td>\n",
       "      <td>0.00000</td>\n",
       "    </tr>\n",
       "    <tr>\n",
       "      <th>ID de consentimento</th>\n",
       "      <td>0</td>\n",
       "      <td>0.00000</td>\n",
       "    </tr>\n",
       "    <tr>\n",
       "      <th>pagamentos em prestações pagos - emprestimo</th>\n",
       "      <td>0</td>\n",
       "      <td>0.00000</td>\n",
       "    </tr>\n",
       "    <tr>\n",
       "      <th>é Prestação - credito</th>\n",
       "      <td>0</td>\n",
       "      <td>0.00000</td>\n",
       "    </tr>\n",
       "    <tr>\n",
       "      <th>quantia - credito</th>\n",
       "      <td>0</td>\n",
       "      <td>0.00000</td>\n",
       "    </tr>\n",
       "    <tr>\n",
       "      <th>Valor do contrato - financiamento</th>\n",
       "      <td>0</td>\n",
       "      <td>0.00000</td>\n",
       "    </tr>\n",
       "    <tr>\n",
       "      <th>número restante do contrato - financiamento</th>\n",
       "      <td>0</td>\n",
       "      <td>0.00000</td>\n",
       "    </tr>\n",
       "    <tr>\n",
       "      <th>data de vencimento - financiamento</th>\n",
       "      <td>0</td>\n",
       "      <td>0.00000</td>\n",
       "    </tr>\n",
       "    <tr>\n",
       "      <th>Número total de prestações - financiamento</th>\n",
       "      <td>0</td>\n",
       "      <td>0.00000</td>\n",
       "    </tr>\n",
       "    <tr>\n",
       "      <th>Prestações pagas - financiamento</th>\n",
       "      <td>0</td>\n",
       "      <td>0.00000</td>\n",
       "    </tr>\n",
       "    <tr>\n",
       "      <th>Prestações devidas - financiamento</th>\n",
       "      <td>0</td>\n",
       "      <td>0.00000</td>\n",
       "    </tr>\n",
       "    <tr>\n",
       "      <th>saldo pendente do contrato - financiamento</th>\n",
       "      <td>0</td>\n",
       "      <td>0.00000</td>\n",
       "    </tr>\n",
       "    <tr>\n",
       "      <th>pagamentos em prestações pagos - financiamento</th>\n",
       "      <td>0</td>\n",
       "      <td>0.00000</td>\n",
       "    </tr>\n",
       "    <tr>\n",
       "      <th>data de vencimento - emprestimo</th>\n",
       "      <td>0</td>\n",
       "      <td>0.00000</td>\n",
       "    </tr>\n",
       "    <tr>\n",
       "      <th>Prestações pagas - emprestimo</th>\n",
       "      <td>0</td>\n",
       "      <td>0.00000</td>\n",
       "    </tr>\n",
       "    <tr>\n",
       "      <th>Prestações devidas - emprestimo</th>\n",
       "      <td>0</td>\n",
       "      <td>0.00000</td>\n",
       "    </tr>\n",
       "    <tr>\n",
       "      <th>saldo pendente do contrato - emprestimo</th>\n",
       "      <td>0</td>\n",
       "      <td>0.00000</td>\n",
       "    </tr>\n",
       "    <tr>\n",
       "      <th>data de vencimento - credito</th>\n",
       "      <td>0</td>\n",
       "      <td>0.00000</td>\n",
       "    </tr>\n",
       "  </tbody>\n",
       "</table>\n",
       "</div>"
      ],
      "text/plain": [
       "                                                Total  Percent\n",
       "transações de valor - credito                   43444  0.21722\n",
       "quantia - conta                                 13258  0.06629\n",
       "Valor do pagamento - credito                     1400  0.00700\n",
       "data de pagamento - credito                      1400  0.00700\n",
       "valor mínimo da fatura - credito                    0  0.00000\n",
       "Valor de cheque especial não combinado              0  0.00000\n",
       "limite de cheque especial usado                     0  0.00000\n",
       "cheque especial Limite contratado                   0  0.00000\n",
       "quantidade disponível                               0  0.00000\n",
       "valor bloqueado                                     0  0.00000\n",
       "ID da conta                                         0  0.00000\n",
       "tipo pessoa                                         0  0.00000\n",
       "Quantidade usada - credito                          0  0.00000\n",
       "é flexível no limite                                0  0.00000\n",
       "Valor limite - credito                              0  0.00000\n",
       "valor total da fatura - credito                     0  0.00000\n",
       "ID de consentimento                                 0  0.00000\n",
       "pagamentos em prestações pagos - emprestimo         0  0.00000\n",
       "é Prestação - credito                               0  0.00000\n",
       "quantia - credito                                   0  0.00000\n",
       "Valor do contrato - financiamento                   0  0.00000\n",
       "número restante do contrato - financiamento         0  0.00000\n",
       "data de vencimento - financiamento                  0  0.00000\n",
       "Número total de prestações - financiamento          0  0.00000\n",
       "Prestações pagas - financiamento                    0  0.00000\n",
       "Prestações devidas - financiamento                  0  0.00000\n",
       "saldo pendente do contrato - financiamento          0  0.00000\n",
       "pagamentos em prestações pagos - financiamento      0  0.00000\n",
       "data de vencimento - emprestimo                     0  0.00000\n",
       "Prestações pagas - emprestimo                       0  0.00000\n",
       "Prestações devidas - emprestimo                     0  0.00000\n",
       "saldo pendente do contrato - emprestimo             0  0.00000\n",
       "data de vencimento - credito                        0  0.00000"
      ]
     },
     "execution_count": 6,
     "metadata": {},
     "output_type": "execute_result"
    }
   ],
   "source": [
    "#missing data\n",
    "total = df.isnull().sum().sort_values(ascending=False)\n",
    "percent = (df.isnull().sum()/df.isnull().count()).sort_values(ascending=False)\n",
    "missing_data = pd.concat([total, percent], axis=1, keys=['Total', 'Percent'])\n",
    "missing_data"
   ]
  },
  {
   "cell_type": "code",
   "execution_count": 7,
   "id": "7b8eb667",
   "metadata": {
    "id": "7b8eb667"
   },
   "outputs": [],
   "source": [
    "df.drop(['ID da conta','tipo pessoa','é flexível no limite','data de vencimento - credito','é Prestação - credito','data de vencimento - financiamento','data de vencimento - emprestimo' ,'ID de consentimento','transações de valor - credito' ,'quantia - conta','Valor do pagamento - credito','data de pagamento - credito'], inplace=True, axis=1)"
   ]
  },
  {
   "cell_type": "code",
   "execution_count": 8,
   "id": "11488b4c",
   "metadata": {
    "colab": {
     "base_uri": "https://localhost:8080/",
     "height": 557
    },
    "id": "11488b4c",
    "outputId": "84257e78-83c0-4e09-8f0f-a4ae8c2b6a93",
    "scrolled": false
   },
   "outputs": [
    {
     "data": {
      "text/html": [
       "<div>\n",
       "<style scoped>\n",
       "    .dataframe tbody tr th:only-of-type {\n",
       "        vertical-align: middle;\n",
       "    }\n",
       "\n",
       "    .dataframe tbody tr th {\n",
       "        vertical-align: top;\n",
       "    }\n",
       "\n",
       "    .dataframe thead th {\n",
       "        text-align: right;\n",
       "    }\n",
       "</style>\n",
       "<table border=\"1\" class=\"dataframe\">\n",
       "  <thead>\n",
       "    <tr style=\"text-align: right;\">\n",
       "      <th></th>\n",
       "      <th>pagamentos em prestações pagos - emprestimo</th>\n",
       "      <th>saldo pendente do contrato - emprestimo</th>\n",
       "      <th>Prestações devidas - emprestimo</th>\n",
       "      <th>Prestações pagas - emprestimo</th>\n",
       "      <th>pagamentos em prestações pagos - financiamento</th>\n",
       "      <th>saldo pendente do contrato - financiamento</th>\n",
       "      <th>Prestações devidas - financiamento</th>\n",
       "      <th>Prestações pagas - financiamento</th>\n",
       "      <th>Número total de prestações - financiamento</th>\n",
       "      <th>número restante do contrato - financiamento</th>\n",
       "      <th>Valor do contrato - financiamento</th>\n",
       "      <th>quantia - credito</th>\n",
       "      <th>valor mínimo da fatura - credito</th>\n",
       "      <th>valor total da fatura - credito</th>\n",
       "      <th>Valor limite - credito</th>\n",
       "      <th>Quantidade usada - credito</th>\n",
       "      <th>valor bloqueado</th>\n",
       "      <th>quantidade disponível</th>\n",
       "      <th>cheque especial Limite contratado</th>\n",
       "      <th>limite de cheque especial usado</th>\n",
       "      <th>Valor de cheque especial não combinado</th>\n",
       "    </tr>\n",
       "  </thead>\n",
       "  <tbody>\n",
       "    <tr>\n",
       "      <th>0</th>\n",
       "      <td>0</td>\n",
       "      <td>3155.829505</td>\n",
       "      <td>0</td>\n",
       "      <td>0</td>\n",
       "      <td>0</td>\n",
       "      <td>121672.150969</td>\n",
       "      <td>413</td>\n",
       "      <td>0</td>\n",
       "      <td>413</td>\n",
       "      <td>413</td>\n",
       "      <td>127307.648462</td>\n",
       "      <td>0.0</td>\n",
       "      <td>175.821212</td>\n",
       "      <td>1164.467095</td>\n",
       "      <td>1427.043009</td>\n",
       "      <td>0.000000</td>\n",
       "      <td>0.0</td>\n",
       "      <td>-4113.698827</td>\n",
       "      <td>0.000000</td>\n",
       "      <td>0.0</td>\n",
       "      <td>0.0</td>\n",
       "    </tr>\n",
       "    <tr>\n",
       "      <th>1</th>\n",
       "      <td>0</td>\n",
       "      <td>3155.829505</td>\n",
       "      <td>0</td>\n",
       "      <td>0</td>\n",
       "      <td>0</td>\n",
       "      <td>121672.150969</td>\n",
       "      <td>413</td>\n",
       "      <td>0</td>\n",
       "      <td>413</td>\n",
       "      <td>413</td>\n",
       "      <td>127307.648462</td>\n",
       "      <td>0.0</td>\n",
       "      <td>175.821212</td>\n",
       "      <td>1164.467095</td>\n",
       "      <td>1427.043009</td>\n",
       "      <td>0.000000</td>\n",
       "      <td>0.0</td>\n",
       "      <td>-4113.698827</td>\n",
       "      <td>0.000000</td>\n",
       "      <td>0.0</td>\n",
       "      <td>0.0</td>\n",
       "    </tr>\n",
       "    <tr>\n",
       "      <th>2</th>\n",
       "      <td>0</td>\n",
       "      <td>3155.829505</td>\n",
       "      <td>0</td>\n",
       "      <td>0</td>\n",
       "      <td>0</td>\n",
       "      <td>121672.150969</td>\n",
       "      <td>413</td>\n",
       "      <td>0</td>\n",
       "      <td>413</td>\n",
       "      <td>413</td>\n",
       "      <td>127307.648462</td>\n",
       "      <td>0.0</td>\n",
       "      <td>175.821212</td>\n",
       "      <td>1164.467095</td>\n",
       "      <td>1427.043009</td>\n",
       "      <td>0.000000</td>\n",
       "      <td>0.0</td>\n",
       "      <td>0.000000</td>\n",
       "      <td>0.000000</td>\n",
       "      <td>0.0</td>\n",
       "      <td>0.0</td>\n",
       "    </tr>\n",
       "    <tr>\n",
       "      <th>3</th>\n",
       "      <td>0</td>\n",
       "      <td>3155.829505</td>\n",
       "      <td>0</td>\n",
       "      <td>0</td>\n",
       "      <td>0</td>\n",
       "      <td>121672.150969</td>\n",
       "      <td>413</td>\n",
       "      <td>0</td>\n",
       "      <td>413</td>\n",
       "      <td>413</td>\n",
       "      <td>127307.648462</td>\n",
       "      <td>0.0</td>\n",
       "      <td>175.821212</td>\n",
       "      <td>1164.467095</td>\n",
       "      <td>1427.043009</td>\n",
       "      <td>0.000000</td>\n",
       "      <td>0.0</td>\n",
       "      <td>-74.054019</td>\n",
       "      <td>665.953404</td>\n",
       "      <td>0.0</td>\n",
       "      <td>0.0</td>\n",
       "    </tr>\n",
       "    <tr>\n",
       "      <th>4</th>\n",
       "      <td>0</td>\n",
       "      <td>3155.829505</td>\n",
       "      <td>0</td>\n",
       "      <td>0</td>\n",
       "      <td>0</td>\n",
       "      <td>121672.150969</td>\n",
       "      <td>413</td>\n",
       "      <td>0</td>\n",
       "      <td>413</td>\n",
       "      <td>413</td>\n",
       "      <td>127307.648462</td>\n",
       "      <td>0.0</td>\n",
       "      <td>175.821212</td>\n",
       "      <td>1164.467095</td>\n",
       "      <td>1427.043009</td>\n",
       "      <td>0.000000</td>\n",
       "      <td>0.0</td>\n",
       "      <td>-4113.698827</td>\n",
       "      <td>0.000000</td>\n",
       "      <td>0.0</td>\n",
       "      <td>0.0</td>\n",
       "    </tr>\n",
       "    <tr>\n",
       "      <th>...</th>\n",
       "      <td>...</td>\n",
       "      <td>...</td>\n",
       "      <td>...</td>\n",
       "      <td>...</td>\n",
       "      <td>...</td>\n",
       "      <td>...</td>\n",
       "      <td>...</td>\n",
       "      <td>...</td>\n",
       "      <td>...</td>\n",
       "      <td>...</td>\n",
       "      <td>...</td>\n",
       "      <td>...</td>\n",
       "      <td>...</td>\n",
       "      <td>...</td>\n",
       "      <td>...</td>\n",
       "      <td>...</td>\n",
       "      <td>...</td>\n",
       "      <td>...</td>\n",
       "      <td>...</td>\n",
       "      <td>...</td>\n",
       "      <td>...</td>\n",
       "    </tr>\n",
       "    <tr>\n",
       "      <th>199995</th>\n",
       "      <td>0</td>\n",
       "      <td>0.000000</td>\n",
       "      <td>0</td>\n",
       "      <td>0</td>\n",
       "      <td>59</td>\n",
       "      <td>0.000000</td>\n",
       "      <td>0</td>\n",
       "      <td>59</td>\n",
       "      <td>60</td>\n",
       "      <td>0</td>\n",
       "      <td>61873.968622</td>\n",
       "      <td>0.0</td>\n",
       "      <td>904.326668</td>\n",
       "      <td>1828.517775</td>\n",
       "      <td>35817.828162</td>\n",
       "      <td>35817.828162</td>\n",
       "      <td>0.0</td>\n",
       "      <td>7.801168</td>\n",
       "      <td>0.000000</td>\n",
       "      <td>0.0</td>\n",
       "      <td>0.0</td>\n",
       "    </tr>\n",
       "    <tr>\n",
       "      <th>199996</th>\n",
       "      <td>0</td>\n",
       "      <td>0.000000</td>\n",
       "      <td>0</td>\n",
       "      <td>0</td>\n",
       "      <td>59</td>\n",
       "      <td>0.000000</td>\n",
       "      <td>0</td>\n",
       "      <td>59</td>\n",
       "      <td>60</td>\n",
       "      <td>0</td>\n",
       "      <td>61873.968622</td>\n",
       "      <td>0.0</td>\n",
       "      <td>904.326668</td>\n",
       "      <td>1828.517775</td>\n",
       "      <td>35817.828162</td>\n",
       "      <td>35817.828162</td>\n",
       "      <td>0.0</td>\n",
       "      <td>7.801168</td>\n",
       "      <td>0.000000</td>\n",
       "      <td>0.0</td>\n",
       "      <td>0.0</td>\n",
       "    </tr>\n",
       "    <tr>\n",
       "      <th>199997</th>\n",
       "      <td>0</td>\n",
       "      <td>0.000000</td>\n",
       "      <td>0</td>\n",
       "      <td>0</td>\n",
       "      <td>59</td>\n",
       "      <td>0.000000</td>\n",
       "      <td>0</td>\n",
       "      <td>59</td>\n",
       "      <td>60</td>\n",
       "      <td>0</td>\n",
       "      <td>61873.968622</td>\n",
       "      <td>0.0</td>\n",
       "      <td>904.326668</td>\n",
       "      <td>1828.517775</td>\n",
       "      <td>35817.828162</td>\n",
       "      <td>35817.828162</td>\n",
       "      <td>0.0</td>\n",
       "      <td>7.801168</td>\n",
       "      <td>0.000000</td>\n",
       "      <td>0.0</td>\n",
       "      <td>0.0</td>\n",
       "    </tr>\n",
       "    <tr>\n",
       "      <th>199998</th>\n",
       "      <td>0</td>\n",
       "      <td>0.000000</td>\n",
       "      <td>0</td>\n",
       "      <td>0</td>\n",
       "      <td>59</td>\n",
       "      <td>0.000000</td>\n",
       "      <td>0</td>\n",
       "      <td>59</td>\n",
       "      <td>60</td>\n",
       "      <td>0</td>\n",
       "      <td>61873.968622</td>\n",
       "      <td>0.0</td>\n",
       "      <td>904.326668</td>\n",
       "      <td>1828.517775</td>\n",
       "      <td>35817.828162</td>\n",
       "      <td>35817.828162</td>\n",
       "      <td>0.0</td>\n",
       "      <td>7.801168</td>\n",
       "      <td>0.000000</td>\n",
       "      <td>0.0</td>\n",
       "      <td>0.0</td>\n",
       "    </tr>\n",
       "    <tr>\n",
       "      <th>199999</th>\n",
       "      <td>0</td>\n",
       "      <td>0.000000</td>\n",
       "      <td>0</td>\n",
       "      <td>0</td>\n",
       "      <td>59</td>\n",
       "      <td>0.000000</td>\n",
       "      <td>0</td>\n",
       "      <td>59</td>\n",
       "      <td>60</td>\n",
       "      <td>0</td>\n",
       "      <td>61873.968622</td>\n",
       "      <td>0.0</td>\n",
       "      <td>904.326668</td>\n",
       "      <td>1828.517775</td>\n",
       "      <td>35817.828162</td>\n",
       "      <td>35817.828162</td>\n",
       "      <td>0.0</td>\n",
       "      <td>7.801168</td>\n",
       "      <td>0.000000</td>\n",
       "      <td>0.0</td>\n",
       "      <td>0.0</td>\n",
       "    </tr>\n",
       "  </tbody>\n",
       "</table>\n",
       "<p>200000 rows × 21 columns</p>\n",
       "</div>"
      ],
      "text/plain": [
       "        pagamentos em prestações pagos - emprestimo  \\\n",
       "0                                                 0   \n",
       "1                                                 0   \n",
       "2                                                 0   \n",
       "3                                                 0   \n",
       "4                                                 0   \n",
       "...                                             ...   \n",
       "199995                                            0   \n",
       "199996                                            0   \n",
       "199997                                            0   \n",
       "199998                                            0   \n",
       "199999                                            0   \n",
       "\n",
       "        saldo pendente do contrato - emprestimo  \\\n",
       "0                                   3155.829505   \n",
       "1                                   3155.829505   \n",
       "2                                   3155.829505   \n",
       "3                                   3155.829505   \n",
       "4                                   3155.829505   \n",
       "...                                         ...   \n",
       "199995                                 0.000000   \n",
       "199996                                 0.000000   \n",
       "199997                                 0.000000   \n",
       "199998                                 0.000000   \n",
       "199999                                 0.000000   \n",
       "\n",
       "        Prestações devidas - emprestimo  Prestações pagas - emprestimo  \\\n",
       "0                                     0                              0   \n",
       "1                                     0                              0   \n",
       "2                                     0                              0   \n",
       "3                                     0                              0   \n",
       "4                                     0                              0   \n",
       "...                                 ...                            ...   \n",
       "199995                                0                              0   \n",
       "199996                                0                              0   \n",
       "199997                                0                              0   \n",
       "199998                                0                              0   \n",
       "199999                                0                              0   \n",
       "\n",
       "        pagamentos em prestações pagos - financiamento  \\\n",
       "0                                                    0   \n",
       "1                                                    0   \n",
       "2                                                    0   \n",
       "3                                                    0   \n",
       "4                                                    0   \n",
       "...                                                ...   \n",
       "199995                                              59   \n",
       "199996                                              59   \n",
       "199997                                              59   \n",
       "199998                                              59   \n",
       "199999                                              59   \n",
       "\n",
       "        saldo pendente do contrato - financiamento  \\\n",
       "0                                    121672.150969   \n",
       "1                                    121672.150969   \n",
       "2                                    121672.150969   \n",
       "3                                    121672.150969   \n",
       "4                                    121672.150969   \n",
       "...                                            ...   \n",
       "199995                                    0.000000   \n",
       "199996                                    0.000000   \n",
       "199997                                    0.000000   \n",
       "199998                                    0.000000   \n",
       "199999                                    0.000000   \n",
       "\n",
       "        Prestações devidas - financiamento  Prestações pagas - financiamento  \\\n",
       "0                                      413                                 0   \n",
       "1                                      413                                 0   \n",
       "2                                      413                                 0   \n",
       "3                                      413                                 0   \n",
       "4                                      413                                 0   \n",
       "...                                    ...                               ...   \n",
       "199995                                   0                                59   \n",
       "199996                                   0                                59   \n",
       "199997                                   0                                59   \n",
       "199998                                   0                                59   \n",
       "199999                                   0                                59   \n",
       "\n",
       "        Número total de prestações - financiamento  \\\n",
       "0                                              413   \n",
       "1                                              413   \n",
       "2                                              413   \n",
       "3                                              413   \n",
       "4                                              413   \n",
       "...                                            ...   \n",
       "199995                                          60   \n",
       "199996                                          60   \n",
       "199997                                          60   \n",
       "199998                                          60   \n",
       "199999                                          60   \n",
       "\n",
       "        número restante do contrato - financiamento  \\\n",
       "0                                               413   \n",
       "1                                               413   \n",
       "2                                               413   \n",
       "3                                               413   \n",
       "4                                               413   \n",
       "...                                             ...   \n",
       "199995                                            0   \n",
       "199996                                            0   \n",
       "199997                                            0   \n",
       "199998                                            0   \n",
       "199999                                            0   \n",
       "\n",
       "        Valor do contrato - financiamento  quantia - credito  \\\n",
       "0                           127307.648462                0.0   \n",
       "1                           127307.648462                0.0   \n",
       "2                           127307.648462                0.0   \n",
       "3                           127307.648462                0.0   \n",
       "4                           127307.648462                0.0   \n",
       "...                                   ...                ...   \n",
       "199995                       61873.968622                0.0   \n",
       "199996                       61873.968622                0.0   \n",
       "199997                       61873.968622                0.0   \n",
       "199998                       61873.968622                0.0   \n",
       "199999                       61873.968622                0.0   \n",
       "\n",
       "        valor mínimo da fatura - credito  valor total da fatura - credito  \\\n",
       "0                             175.821212                      1164.467095   \n",
       "1                             175.821212                      1164.467095   \n",
       "2                             175.821212                      1164.467095   \n",
       "3                             175.821212                      1164.467095   \n",
       "4                             175.821212                      1164.467095   \n",
       "...                                  ...                              ...   \n",
       "199995                        904.326668                      1828.517775   \n",
       "199996                        904.326668                      1828.517775   \n",
       "199997                        904.326668                      1828.517775   \n",
       "199998                        904.326668                      1828.517775   \n",
       "199999                        904.326668                      1828.517775   \n",
       "\n",
       "        Valor limite - credito  Quantidade usada - credito  valor bloqueado  \\\n",
       "0                  1427.043009                    0.000000              0.0   \n",
       "1                  1427.043009                    0.000000              0.0   \n",
       "2                  1427.043009                    0.000000              0.0   \n",
       "3                  1427.043009                    0.000000              0.0   \n",
       "4                  1427.043009                    0.000000              0.0   \n",
       "...                        ...                         ...              ...   \n",
       "199995            35817.828162                35817.828162              0.0   \n",
       "199996            35817.828162                35817.828162              0.0   \n",
       "199997            35817.828162                35817.828162              0.0   \n",
       "199998            35817.828162                35817.828162              0.0   \n",
       "199999            35817.828162                35817.828162              0.0   \n",
       "\n",
       "        quantidade disponível  cheque especial Limite contratado  \\\n",
       "0                -4113.698827                           0.000000   \n",
       "1                -4113.698827                           0.000000   \n",
       "2                    0.000000                           0.000000   \n",
       "3                  -74.054019                         665.953404   \n",
       "4                -4113.698827                           0.000000   \n",
       "...                       ...                                ...   \n",
       "199995               7.801168                           0.000000   \n",
       "199996               7.801168                           0.000000   \n",
       "199997               7.801168                           0.000000   \n",
       "199998               7.801168                           0.000000   \n",
       "199999               7.801168                           0.000000   \n",
       "\n",
       "        limite de cheque especial usado  \\\n",
       "0                                   0.0   \n",
       "1                                   0.0   \n",
       "2                                   0.0   \n",
       "3                                   0.0   \n",
       "4                                   0.0   \n",
       "...                                 ...   \n",
       "199995                              0.0   \n",
       "199996                              0.0   \n",
       "199997                              0.0   \n",
       "199998                              0.0   \n",
       "199999                              0.0   \n",
       "\n",
       "        Valor de cheque especial não combinado  \n",
       "0                                          0.0  \n",
       "1                                          0.0  \n",
       "2                                          0.0  \n",
       "3                                          0.0  \n",
       "4                                          0.0  \n",
       "...                                        ...  \n",
       "199995                                     0.0  \n",
       "199996                                     0.0  \n",
       "199997                                     0.0  \n",
       "199998                                     0.0  \n",
       "199999                                     0.0  \n",
       "\n",
       "[200000 rows x 21 columns]"
      ]
     },
     "execution_count": 8,
     "metadata": {},
     "output_type": "execute_result"
    }
   ],
   "source": [
    "df"
   ]
  },
  {
   "cell_type": "code",
   "execution_count": 9,
   "id": "60455139",
   "metadata": {
    "id": "60455139"
   },
   "outputs": [],
   "source": [
    "#verifica se é inadimplente\n",
    "df['divida_total'] = df[['valor total da fatura - credito', 'saldo pendente do contrato - financiamento', 'saldo pendente do contrato - emprestimo']].sum(axis=1)\n",
    "df['divida_atrasada'] = df[['Prestações devidas - emprestimo', 'Prestações devidas - financiamento']].sum(axis=1)\n",
    "df['utilizacao_limite_cartao'] = df['Valor limite - credito'] / df['cheque especial Limite contratado']\n",
    "\n",
    "df['utilizacao_limite_cartao'].replace([np.inf, -np.inf], -1, inplace=True)\n",
    "df['utilizacao_limite_cartao'].replace([np.NaN], 0, inplace=True)\n",
    "\n",
    "df['limite_negativo'] = 0\n",
    "\n",
    "def verifica_limite(x):\n",
    "    if x >= 0:\n",
    "        return  0\n",
    "    else:\n",
    "        return  1\n",
    "\n",
    "def verifica_inadimp(x,y):   \n",
    "    if (x > 0) and (y == 1):\n",
    "        return 1\n",
    "    else:\n",
    "       return 0\n"
   ]
  },
  {
   "cell_type": "code",
   "execution_count": 10,
   "id": "mKRzI1Z5ZkDt",
   "metadata": {
    "id": "mKRzI1Z5ZkDt"
   },
   "outputs": [],
   "source": [
    "#analise_2 = df[['Valor limite - credito','cheque especial Limite contratado']]"
   ]
  },
  {
   "cell_type": "code",
   "execution_count": 11,
   "id": "h3PmmFMgaPKf",
   "metadata": {
    "id": "h3PmmFMgaPKf"
   },
   "outputs": [],
   "source": [
    "#analise_3 = df[df['Valor limite - credito'] <= 0]"
   ]
  },
  {
   "cell_type": "code",
   "execution_count": 12,
   "id": "e65bc11b",
   "metadata": {
    "id": "e65bc11b"
   },
   "outputs": [],
   "source": [
    "df['limite_negativo'] = df['utilizacao_limite_cartao'].apply(verifica_limite)"
   ]
  },
  {
   "cell_type": "code",
   "execution_count": 13,
   "id": "6cwbcJ3eUazV",
   "metadata": {
    "id": "6cwbcJ3eUazV"
   },
   "outputs": [],
   "source": [
    "df['eh_inadimplente'] = np.vectorize(verifica_inadimp)(df['divida_atrasada'], df['limite_negativo'])"
   ]
  },
  {
   "cell_type": "code",
   "execution_count": 14,
   "id": "b8cf8cdc",
   "metadata": {
    "colab": {
     "base_uri": "https://localhost:8080/"
    },
    "id": "b8cf8cdc",
    "outputId": "9f8deb7b-d930-4554-8133-b4440cf1285a"
   },
   "outputs": [
    {
     "data": {
      "text/plain": [
       "1    188808\n",
       "0     11192\n",
       "Name: limite_negativo, dtype: int64"
      ]
     },
     "execution_count": 14,
     "metadata": {},
     "output_type": "execute_result"
    }
   ],
   "source": [
    "df['limite_negativo'].value_counts()"
   ]
  },
  {
   "cell_type": "code",
   "execution_count": 15,
   "id": "pE171RXzWh2W",
   "metadata": {
    "colab": {
     "base_uri": "https://localhost:8080/"
    },
    "id": "pE171RXzWh2W",
    "outputId": "e8f0e607-d821-4345-f95b-dc9e85da61ba"
   },
   "outputs": [
    {
     "data": {
      "text/plain": [
       "0    170624\n",
       "1     29376\n",
       "Name: eh_inadimplente, dtype: int64"
      ]
     },
     "execution_count": 15,
     "metadata": {},
     "output_type": "execute_result"
    }
   ],
   "source": [
    "df['eh_inadimplente'].value_counts()"
   ]
  },
  {
   "cell_type": "code",
   "execution_count": 16,
   "id": "Gl9PpkYqRXt0",
   "metadata": {
    "colab": {
     "base_uri": "https://localhost:8080/",
     "height": 35
    },
    "id": "Gl9PpkYqRXt0",
    "outputId": "d3a54798-2749-4945-d725-1c80c90e7f42"
   },
   "outputs": [
    {
     "data": {
      "text/plain": [
       "'\\nfrom imblearn.over_sampling import SMOTE\\nimport numpy as np\\n\\nSEED=42\\n\\nsmote = SMOTE(random_state=42)\\n'"
      ]
     },
     "execution_count": 16,
     "metadata": {},
     "output_type": "execute_result"
    }
   ],
   "source": [
    "'''\n",
    "from imblearn.over_sampling import SMOTE\n",
    "import numpy as np\n",
    "\n",
    "SEED=42\n",
    "\n",
    "smote = SMOTE(random_state=42)\n",
    "'''"
   ]
  },
  {
   "cell_type": "code",
   "execution_count": 17,
   "id": "DqiPYqkDZpmc",
   "metadata": {
    "id": "DqiPYqkDZpmc"
   },
   "outputs": [],
   "source": [
    "count_majority_class, count_minority_class = df.eh_inadimplente.value_counts()"
   ]
  },
  {
   "cell_type": "code",
   "execution_count": 18,
   "id": "r9Mlq1-vZ8UE",
   "metadata": {
    "colab": {
     "base_uri": "https://localhost:8080/"
    },
    "id": "r9Mlq1-vZ8UE",
    "outputId": "b52d2973-4a61-4a2c-f776-d788b4a62adb"
   },
   "outputs": [
    {
     "data": {
      "text/plain": [
       "170624"
      ]
     },
     "execution_count": 18,
     "metadata": {},
     "output_type": "execute_result"
    }
   ],
   "source": [
    "count_majority_class"
   ]
  },
  {
   "cell_type": "code",
   "execution_count": 19,
   "id": "HW5DU_XIZwoj",
   "metadata": {
    "id": "HW5DU_XIZwoj"
   },
   "outputs": [],
   "source": [
    "df_majority_class = df[df['eh_inadimplente'] == 0]\n",
    "df_minority_class = df[df['eh_inadimplente'] == 1]"
   ]
  },
  {
   "cell_type": "code",
   "execution_count": 20,
   "id": "g6zEBHO5aDbH",
   "metadata": {
    "id": "g6zEBHO5aDbH"
   },
   "outputs": [],
   "source": [
    "df_class_undersample = df_majority_class.sample(count_minority_class)"
   ]
  },
  {
   "cell_type": "code",
   "execution_count": 21,
   "id": "BDCH8VplaI4U",
   "metadata": {
    "id": "BDCH8VplaI4U"
   },
   "outputs": [],
   "source": [
    "df_balanced = pd.concat([df_class_undersample, df_minority_class], axis=0)"
   ]
  },
  {
   "cell_type": "code",
   "execution_count": 22,
   "id": "yVoZm2CQaVgb",
   "metadata": {
    "colab": {
     "base_uri": "https://localhost:8080/"
    },
    "id": "yVoZm2CQaVgb",
    "outputId": "09c8ced6-eed5-4c00-8508-9ecd15cff3b8"
   },
   "outputs": [
    {
     "name": "stdout",
     "output_type": "stream",
     "text": [
      "Number of data samples after under-sampling:\n",
      "0    29376\n",
      "1    29376\n",
      "Name: eh_inadimplente, dtype: int64\n"
     ]
    }
   ],
   "source": [
    "print('Number of data samples after under-sampling:')\n",
    "print(df_balanced.eh_inadimplente.value_counts())"
   ]
  },
  {
   "cell_type": "code",
   "execution_count": 23,
   "id": "WT5kAQgvVPdD",
   "metadata": {
    "id": "WT5kAQgvVPdD"
   },
   "outputs": [],
   "source": [
    "#smote_technique = SMOTE(sampling_strategy='minority')"
   ]
  },
  {
   "cell_type": "code",
   "execution_count": 24,
   "id": "mleo6X1peO3c",
   "metadata": {
    "id": "mleo6X1peO3c"
   },
   "outputs": [],
   "source": [
    "X = df_balanced.drop(\"eh_inadimplente\", axis=1)\n",
    "Y = df_balanced[\"eh_inadimplente\"]"
   ]
  },
  {
   "cell_type": "code",
   "execution_count": 25,
   "id": "D7os5UdURcCX",
   "metadata": {
    "id": "D7os5UdURcCX"
   },
   "outputs": [],
   "source": [
    "#x_resampled, y_resampled = smote_technique.fit_resample(X, Y)"
   ]
  },
  {
   "cell_type": "code",
   "execution_count": 26,
   "id": "6SCwFWeyRpj0",
   "metadata": {
    "id": "6SCwFWeyRpj0"
   },
   "outputs": [],
   "source": [
    "#df_balanced = pd.concat([y_resampled, x_resampled], axis=1)\n",
    "#df_balanced"
   ]
  },
  {
   "cell_type": "code",
   "execution_count": 27,
   "id": "t8jjWpcbRt8_",
   "metadata": {
    "colab": {
     "base_uri": "https://localhost:8080/"
    },
    "id": "t8jjWpcbRt8_",
    "outputId": "e6d0646f-773d-4677-d90f-721868fda3d9"
   },
   "outputs": [
    {
     "data": {
      "text/plain": [
       "0    29376\n",
       "1    29376\n",
       "Name: eh_inadimplente, dtype: int64"
      ]
     },
     "execution_count": 27,
     "metadata": {},
     "output_type": "execute_result"
    }
   ],
   "source": [
    "df_balanced[\"eh_inadimplente\"].value_counts()"
   ]
  },
  {
   "cell_type": "code",
   "execution_count": 28,
   "id": "GWH6aOYDRw_8",
   "metadata": {
    "id": "GWH6aOYDRw_8"
   },
   "outputs": [],
   "source": [
    "#x = df_balanced.iloc[:, 1:].values\n",
    "#y = df_balanced.iloc[:, 0].values"
   ]
  },
  {
   "cell_type": "code",
   "execution_count": 29,
   "id": "6629e16d",
   "metadata": {
    "id": "6629e16d"
   },
   "outputs": [],
   "source": [
    "X_train, X_test, y_train, y_test = train_test_split(X,Y, test_size=0.2, random_state=42)"
   ]
  },
  {
   "cell_type": "code",
   "execution_count": 30,
   "id": "2e7e7efd",
   "metadata": {
    "id": "2e7e7efd"
   },
   "outputs": [],
   "source": [
    "\n",
    "from sklearn.preprocessing import StandardScaler\n",
    "\n",
    "# Padronizar as variáveis numéricas\n",
    "scaler = StandardScaler()\n",
    "X_train = scaler.fit_transform(X_train)\n",
    "X_test = scaler.transform(X_test)\n"
   ]
  },
  {
   "cell_type": "code",
   "execution_count": 31,
   "id": "d6a516f5",
   "metadata": {
    "colab": {
     "base_uri": "https://localhost:8080/",
     "height": 74
    },
    "id": "d6a516f5",
    "outputId": "38bf5cee-a197-4ae3-df58-9dcb29eb8187"
   },
   "outputs": [
    {
     "data": {
      "text/plain": [
       "LogisticRegression()"
      ]
     },
     "execution_count": 31,
     "metadata": {},
     "output_type": "execute_result"
    }
   ],
   "source": [
    "# Treinar o modelo de regressão logística\n",
    "modelo = LogisticRegression()\n",
    "#modelo = RandomForestClassifier(max_depth= 5, random_state = 42) \n",
    "modelo.fit(X_train, y_train)"
   ]
  },
  {
   "cell_type": "code",
   "execution_count": 32,
   "id": "fsulblQESsC8",
   "metadata": {
    "colab": {
     "base_uri": "https://localhost:8080/"
    },
    "id": "fsulblQESsC8",
    "outputId": "7fa95d18-b877-4242-f33e-3c2384612d7f"
   },
   "outputs": [
    {
     "data": {
      "text/plain": [
       "3574      1\n",
       "19594     1\n",
       "16536     1\n",
       "19658     1\n",
       "63145     0\n",
       "         ..\n",
       "187638    0\n",
       "7849      1\n",
       "79929     0\n",
       "193197    0\n",
       "19176     1\n",
       "Name: eh_inadimplente, Length: 11751, dtype: int32"
      ]
     },
     "execution_count": 32,
     "metadata": {},
     "output_type": "execute_result"
    }
   ],
   "source": [
    "y_test"
   ]
  },
  {
   "cell_type": "code",
   "execution_count": 33,
   "id": "jVVPZereOq5q",
   "metadata": {
    "colab": {
     "base_uri": "https://localhost:8080/"
    },
    "id": "jVVPZereOq5q",
    "outputId": "24d24a3b-4097-4309-dfe1-98a2c025bbf2"
   },
   "outputs": [
    {
     "name": "stdout",
     "output_type": "stream",
     "text": [
      "Acurácia: 1.0\n"
     ]
    }
   ],
   "source": [
    "acuracia = modelo.score(X_test, y_test)\n",
    "print('Acurácia:', acuracia)"
   ]
  },
  {
   "cell_type": "code",
   "execution_count": 34,
   "id": "e77164f8",
   "metadata": {
    "id": "e77164f8"
   },
   "outputs": [],
   "source": [
    "# Gerar o score para cada cliente\n",
    "#score = modelo.predict_proba(X_test)[:, 1].round()\n",
    "score = modelo.predict_proba(X_test)[:, 1]"
   ]
  },
  {
   "cell_type": "code",
   "execution_count": 35,
   "id": "9KMl3JJqEN7n",
   "metadata": {
    "colab": {
     "base_uri": "https://localhost:8080/"
    },
    "id": "9KMl3JJqEN7n",
    "outputId": "3bd86ced-bc47-4801-f8e4-ca266b97c9fa"
   },
   "outputs": [
    {
     "data": {
      "text/plain": [
       "'\\nprint(\"Acurácia:\",metrics.accuracy_score(y_test, score))\\nprint(\"Precisão:\",metrics.precision_score(y_test, score))\\nprint(\"Recall:\",metrics.recall_score(y_test, score)) \\nprint(\"F1:\",metrics.f1_score(y_test, score))\\n'"
      ]
     },
     "execution_count": 35,
     "metadata": {},
     "output_type": "execute_result"
    }
   ],
   "source": [
    "#from sklearn import metrics\n",
    "'''\n",
    "print(\"Acurácia:\",metrics.accuracy_score(y_test, score))\n",
    "print(\"Precisão:\",metrics.precision_score(y_test, score))\n",
    "print(\"Recall:\",metrics.recall_score(y_test, score)) \n",
    "print(\"F1:\",metrics.f1_score(y_test, score))\n",
    "'''"
   ]
  },
  {
   "cell_type": "code",
   "execution_count": 36,
   "id": "Lwu8xX5jA68G",
   "metadata": {
    "colab": {
     "base_uri": "https://localhost:8080/"
    },
    "id": "Lwu8xX5jA68G",
    "outputId": "6ceed433-f1dd-4697-b292-194c3fe0bd67"
   },
   "outputs": [
    {
     "data": {
      "text/plain": [
       "array([9.99933188e-01, 9.99963380e-01, 9.99988335e-01, ...,\n",
       "       7.31269919e-06, 3.19291179e-05, 9.99988122e-01])"
      ]
     },
     "execution_count": 36,
     "metadata": {},
     "output_type": "execute_result"
    }
   ],
   "source": [
    "score"
   ]
  },
  {
   "cell_type": "code",
   "execution_count": 37,
   "id": "4af563c3",
   "metadata": {
    "id": "4af563c3"
   },
   "outputs": [],
   "source": [
    "# Fornecer produtos financeiros com base no score gerado e nas variáveis adicionais\n",
    "produto_oferecido = np.where((score >= 0.8),  'Empréstimo Pessoal', \\\n",
    "                                    np.where((score >= 0.5) , 'Cartão de Crédito', \\\n",
    "                                    np.where((score >= 0.2) , 'Conta Corrente', 'Sem Oferta')))"
   ]
  },
  {
   "cell_type": "code",
   "execution_count": 38,
   "id": "1dHkoLarI2S1",
   "metadata": {
    "colab": {
     "base_uri": "https://localhost:8080/"
    },
    "id": "1dHkoLarI2S1",
    "outputId": "c8851b39-284c-4a7c-d51e-8cd688fa39fb"
   },
   "outputs": [
    {
     "data": {
      "text/plain": [
       "(11751,)"
      ]
     },
     "execution_count": 38,
     "metadata": {},
     "output_type": "execute_result"
    }
   ],
   "source": [
    "produto_oferecido.shape"
   ]
  },
  {
   "cell_type": "code",
   "execution_count": 39,
   "id": "0O-cwwqle1_-",
   "metadata": {
    "colab": {
     "base_uri": "https://localhost:8080/"
    },
    "id": "0O-cwwqle1_-",
    "outputId": "503e9d11-d065-4d71-eda7-c371c3c01818"
   },
   "outputs": [
    {
     "data": {
      "text/plain": [
       "array(['Empréstimo Pessoal', 'Empréstimo Pessoal', 'Empréstimo Pessoal',\n",
       "       ..., 'Sem Oferta', 'Sem Oferta', 'Empréstimo Pessoal'],\n",
       "      dtype='<U18')"
      ]
     },
     "execution_count": 39,
     "metadata": {},
     "output_type": "execute_result"
    }
   ],
   "source": [
    "produto_oferecido"
   ]
  },
  {
   "cell_type": "code",
   "execution_count": 40,
   "id": "Fw8PStqCfEpb",
   "metadata": {
    "id": "Fw8PStqCfEpb"
   },
   "outputs": [],
   "source": [
    "df_teste = pd.DataFrame(produto_oferecido, columns = ['produto_oferecido'])"
   ]
  },
  {
   "cell_type": "code",
   "execution_count": 41,
   "id": "oGR8KGIBfEi6",
   "metadata": {
    "colab": {
     "base_uri": "https://localhost:8080/",
     "height": 423
    },
    "id": "oGR8KGIBfEi6",
    "outputId": "836820d8-ce44-4d03-cda1-fd37149c6f43"
   },
   "outputs": [
    {
     "data": {
      "text/html": [
       "<div>\n",
       "<style scoped>\n",
       "    .dataframe tbody tr th:only-of-type {\n",
       "        vertical-align: middle;\n",
       "    }\n",
       "\n",
       "    .dataframe tbody tr th {\n",
       "        vertical-align: top;\n",
       "    }\n",
       "\n",
       "    .dataframe thead th {\n",
       "        text-align: right;\n",
       "    }\n",
       "</style>\n",
       "<table border=\"1\" class=\"dataframe\">\n",
       "  <thead>\n",
       "    <tr style=\"text-align: right;\">\n",
       "      <th></th>\n",
       "      <th>produto_oferecido</th>\n",
       "    </tr>\n",
       "  </thead>\n",
       "  <tbody>\n",
       "    <tr>\n",
       "      <th>0</th>\n",
       "      <td>Empréstimo Pessoal</td>\n",
       "    </tr>\n",
       "    <tr>\n",
       "      <th>1</th>\n",
       "      <td>Empréstimo Pessoal</td>\n",
       "    </tr>\n",
       "    <tr>\n",
       "      <th>2</th>\n",
       "      <td>Empréstimo Pessoal</td>\n",
       "    </tr>\n",
       "    <tr>\n",
       "      <th>3</th>\n",
       "      <td>Empréstimo Pessoal</td>\n",
       "    </tr>\n",
       "    <tr>\n",
       "      <th>4</th>\n",
       "      <td>Sem Oferta</td>\n",
       "    </tr>\n",
       "    <tr>\n",
       "      <th>...</th>\n",
       "      <td>...</td>\n",
       "    </tr>\n",
       "    <tr>\n",
       "      <th>11746</th>\n",
       "      <td>Sem Oferta</td>\n",
       "    </tr>\n",
       "    <tr>\n",
       "      <th>11747</th>\n",
       "      <td>Empréstimo Pessoal</td>\n",
       "    </tr>\n",
       "    <tr>\n",
       "      <th>11748</th>\n",
       "      <td>Sem Oferta</td>\n",
       "    </tr>\n",
       "    <tr>\n",
       "      <th>11749</th>\n",
       "      <td>Sem Oferta</td>\n",
       "    </tr>\n",
       "    <tr>\n",
       "      <th>11750</th>\n",
       "      <td>Empréstimo Pessoal</td>\n",
       "    </tr>\n",
       "  </tbody>\n",
       "</table>\n",
       "<p>11751 rows × 1 columns</p>\n",
       "</div>"
      ],
      "text/plain": [
       "        produto_oferecido\n",
       "0      Empréstimo Pessoal\n",
       "1      Empréstimo Pessoal\n",
       "2      Empréstimo Pessoal\n",
       "3      Empréstimo Pessoal\n",
       "4              Sem Oferta\n",
       "...                   ...\n",
       "11746          Sem Oferta\n",
       "11747  Empréstimo Pessoal\n",
       "11748          Sem Oferta\n",
       "11749          Sem Oferta\n",
       "11750  Empréstimo Pessoal\n",
       "\n",
       "[11751 rows x 1 columns]"
      ]
     },
     "execution_count": 41,
     "metadata": {},
     "output_type": "execute_result"
    }
   ],
   "source": [
    "df_teste"
   ]
  },
  {
   "cell_type": "code",
   "execution_count": 42,
   "id": "1y5Wnv1zfU9r",
   "metadata": {
    "colab": {
     "base_uri": "https://localhost:8080/"
    },
    "id": "1y5Wnv1zfU9r",
    "outputId": "0dca658c-5f6e-4a29-fbc5-1cc7d5a3a5f1"
   },
   "outputs": [
    {
     "data": {
      "text/plain": [
       "Empréstimo Pessoal    5923\n",
       "Sem Oferta            5828\n",
       "Name: produto_oferecido, dtype: int64"
      ]
     },
     "execution_count": 42,
     "metadata": {},
     "output_type": "execute_result"
    }
   ],
   "source": [
    "#produtos ofertados\n",
    "df_teste['produto_oferecido'].value_counts()"
   ]
  },
  {
   "cell_type": "code",
   "execution_count": null,
   "id": "db7367e9",
   "metadata": {},
   "outputs": [],
   "source": []
  }
 ],
 "metadata": {
  "colab": {
   "provenance": []
  },
  "kernelspec": {
   "display_name": "Python 3",
   "language": "python",
   "name": "python3"
  },
  "language_info": {
   "codemirror_mode": {
    "name": "ipython",
    "version": 3
   },
   "file_extension": ".py",
   "mimetype": "text/x-python",
   "name": "python",
   "nbconvert_exporter": "python",
   "pygments_lexer": "ipython3",
   "version": "3.9.12"
  }
 },
 "nbformat": 4,
 "nbformat_minor": 5
}
